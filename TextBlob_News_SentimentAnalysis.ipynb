{
 "cells": [
  {
   "cell_type": "code",
   "execution_count": null,
   "id": "c553e5c7",
   "metadata": {},
   "outputs": [],
   "source": [
    "#company_list = ['TTEF.PA','SHEL.L','REP.MC','EQNR.OL','ENI.MI','BP.L','2222.SE','NESTE.HE','GALP.LS','CVX','XOM.N','VLO.N','GAZP.MM','PSX','MPC.N']\n",
    "#company_list = [\"TSLA.O\",\"F\",\"GM\",\"STLAM.MI\",\"MBGn.DE\",\"002594.SZ\",\"RACE.MI\",\"BMWG.DE\",\"VOWG.DE\",\"7267.T\",\"005380.KS\",\"MRTI.NS\",\"P911_p.DE\",\"TAMO.NS\"]\n",
    "#company_list = [\"JPM\",\"BAC\",\"601398.SS\",\"WFC\",\"601288.SS\",\"601988.SS\",\"601939.SS\",\"HSBA.L\",\"RY.TO\",\"HDBK.NS\",\"CBA.AX\",\"8306.T\",\"600036.SS\",\"TD.TO\",\"ICBK.NS\",\"1120.SE\",\"SBI.NS\",\"BNPP.PA\",\"8316.T\",\"SAN.MC\",\"BBCA.JK\",\"SBER.MM\",\"BMO.TO\",\"NAB.AX\",\"BBVA.MC\"]\n",
    "#company_list = [\"BHP.AX\",\"RIO.L\",\"SCCO.K\",\"FCX\",\"GLEN.L\",\"601899.SS\",\"CRH\",\"VALE3.SA\",\"HOLN.S\",\"FMG.AX\",\"1211.SE\",\"NUE\",\"GMEXICOB.MX\",\"NEM\",\"AMMN.JK\",\"MLM\",\"VMC\",\"ULTC.NS\",\"AAL.L\",\"AEM.TO\",\"ABX.TO\",\"JSTL.NS\",\"ANTO.L\",\"005490.KS\"]\n",
    "#company_list=[\"TMUS.O\",\"600941.SS\",\"VZ\",\"CMCSA.O\",\"T\",\"DTEGn.DE\",\"9432.T\",\"BRTI.NS\",\"9984.T\",\"601728.SS\",\"9433.T\",\"9434.T\",\"AMXB.MX\",\"7010.SE\",\"CHTR.O\",\"EAND.AD\",\"ORAN.PA\",\"BCE.TO\",\"SCMN.S\",\"2412.TW\",\"STEL.SI\",\"TLS.AX\",\"TEF.MC\",\"VOD.L\",\"T.TO\"]"
   ]
  },
  {
   "cell_type": "code",
   "execution_count": 9,
   "id": "17e5020e",
   "metadata": {
    "scrolled": true
   },
   "outputs": [],
   "source": [
    "%matplotlib notebook\n",
    "%matplotlib inline\n",
    "%reload_ext autoreload\n",
    "%autoreload 2\n",
    "\n",
    "#import eikon as ek\n",
    "import pandas as pd\n",
    "import numpy as np\n",
    "import os\n",
    "from bs4 import BeautifulSoup\n",
    "from textblob import TextBlob\n",
    "import datetime\n",
    "from datetime import time\n",
    "import warnings\n",
    "warnings.filterwarnings(\"ignore\")\n",
    "#ek.set_app_key('bd7b3cc97d0f46a6b55932ab99a4feab4875dda9')"
   ]
  },
  {
   "cell_type": "code",
   "execution_count": 11,
   "id": "41b2acd8",
   "metadata": {},
   "outputs": [
    {
     "ename": "ModuleNotFoundError",
     "evalue": "No module named 'eikon'",
     "output_type": "error",
     "traceback": [
      "\u001b[1;31m---------------------------------------------------------------------------\u001b[0m",
      "\u001b[1;31mModuleNotFoundError\u001b[0m                       Traceback (most recent call last)",
      "Cell \u001b[1;32mIn[11], line 1\u001b[0m\n\u001b[1;32m----> 1\u001b[0m \u001b[38;5;28;01mimport\u001b[39;00m \u001b[38;5;21;01mmaster_thesis_tool_kit\u001b[39;00m \u001b[38;5;28;01mas\u001b[39;00m \u001b[38;5;21;01mmtk\u001b[39;00m\n",
      "File \u001b[1;32m~\\OneDrive - SKEMA Business School\\6 - Master Thesis\\Code Python\\master_thesis_tool_kit.py:6\u001b[0m\n\u001b[0;32m      4\u001b[0m \u001b[38;5;28;01mimport\u001b[39;00m \u001b[38;5;21;01mos\u001b[39;00m\n\u001b[0;32m      5\u001b[0m \u001b[38;5;28;01mimport\u001b[39;00m \u001b[38;5;21;01mglob\u001b[39;00m\n\u001b[1;32m----> 6\u001b[0m \u001b[38;5;28;01mimport\u001b[39;00m \u001b[38;5;21;01meikon\u001b[39;00m \u001b[38;5;28;01mas\u001b[39;00m \u001b[38;5;21;01mek\u001b[39;00m\n\u001b[0;32m      7\u001b[0m \u001b[38;5;28;01mfrom\u001b[39;00m \u001b[38;5;21;01mbs4\u001b[39;00m \u001b[38;5;28;01mimport\u001b[39;00m BeautifulSoup\n\u001b[0;32m      8\u001b[0m \u001b[38;5;28;01mfrom\u001b[39;00m \u001b[38;5;21;01mtextblob\u001b[39;00m \u001b[38;5;28;01mimport\u001b[39;00m TextBlob\n",
      "\u001b[1;31mModuleNotFoundError\u001b[0m: No module named 'eikon'"
     ]
    }
   ],
   "source": [
    "import master_thesis_tool_kit as mtk"
   ]
  },
  {
   "cell_type": "code",
   "execution_count": 3,
   "id": "09237c81",
   "metadata": {},
   "outputs": [],
   "source": [
    "sector_code = 501020\n",
    "SCREENER_REQUEST = 'SCREEN(U(IN(Equity(active,public,primary))), TOP(TR.CompanyMarketCap , 9999, nnumber),\\\n",
    "IN(TR.TRBCIndustryGroupCode,'+str(sector_code)+'), TR.SocialPillarScore(Period=FY0)>=0, CURN=USD)'\n",
    "fields = [\"TR.CommonName\",\"TR.CompanyMarketCap\",\"TR.TRBCIndustryGroup\",\"TR.SocialPillarScore(Period=FY0)\"]\n",
    "df1,err= ek.get_data(SCREENER_REQUEST, fields)"
   ]
  },
  {
   "cell_type": "code",
   "execution_count": 4,
   "id": "ff0d679f",
   "metadata": {},
   "outputs": [],
   "source": [
    "if df1.shape[0]>100:\n",
    "    df1_sorted = df1.sort_values('Company Market Cap', ascending=False).head(100)\n",
    "else:\n",
    "    df1_sorted = df1.sort_values('Company Market Cap', ascending=False)\n",
    "    \n",
    "company_list = df1_sorted[\"Instrument\"].tolist()\n",
    "sector = ''.join(df1_sorted[\"TRBC Industry Group Name\"].unique())"
   ]
  },
  {
   "cell_type": "code",
   "execution_count": 5,
   "id": "9b53e857",
   "metadata": {},
   "outputs": [],
   "source": [
    "res = pd.DataFrame()\n",
    "csv_file = os.path.join(f'Weights_{sector}_companies.csv')\n",
    "if not os.path.exists(sector):\n",
    "    os.makedirs(sector)"
   ]
  },
  {
   "cell_type": "code",
   "execution_count": 6,
   "id": "b4dd1f2b",
   "metadata": {},
   "outputs": [
    {
     "name": "stderr",
     "output_type": "stream",
     "text": [
      "2024-04-12 14:58:02,284 P[14616] [MainThread 14112] Backend error. 503 Service Unavailable\n"
     ]
    },
    {
     "ename": "EikonError",
     "evalue": "Error code 503 | Backend error. 503 Service Unavailable",
     "output_type": "error",
     "traceback": [
      "\u001b[1;31m---------------------------------------------------------------------------\u001b[0m",
      "\u001b[1;31mEikonError\u001b[0m                                Traceback (most recent call last)",
      "\u001b[1;32m~\\AppData\\Local\\Temp/ipykernel_14616/1430242700.py\u001b[0m in \u001b[0;36m<module>\u001b[1;34m\u001b[0m\n\u001b[0;32m      2\u001b[0m     \u001b[0mdf\u001b[0m \u001b[1;33m=\u001b[0m \u001b[0mmtk\u001b[0m\u001b[1;33m.\u001b[0m\u001b[0mcompany_headlines\u001b[0m\u001b[1;33m(\u001b[0m\u001b[0mcompany_ticker\u001b[0m\u001b[1;33m)\u001b[0m\u001b[1;33m\u001b[0m\u001b[1;33m\u001b[0m\u001b[0m\n\u001b[0;32m      3\u001b[0m     \u001b[1;32mif\u001b[0m \u001b[1;32mnot\u001b[0m \u001b[0mdf\u001b[0m\u001b[1;33m.\u001b[0m\u001b[0mempty\u001b[0m\u001b[1;33m:\u001b[0m\u001b[1;33m\u001b[0m\u001b[1;33m\u001b[0m\u001b[0m\n\u001b[1;32m----> 4\u001b[1;33m         \u001b[0mdf_analyzed\u001b[0m \u001b[1;33m=\u001b[0m \u001b[0mmtk\u001b[0m\u001b[1;33m.\u001b[0m\u001b[0mcomapny_sentiment_score\u001b[0m\u001b[1;33m(\u001b[0m\u001b[0mdf\u001b[0m\u001b[1;33m)\u001b[0m\u001b[1;33m\u001b[0m\u001b[1;33m\u001b[0m\u001b[0m\n\u001b[0m\u001b[0;32m      5\u001b[0m         \u001b[0mfilepath\u001b[0m \u001b[1;33m=\u001b[0m \u001b[0mos\u001b[0m\u001b[1;33m.\u001b[0m\u001b[0mpath\u001b[0m\u001b[1;33m.\u001b[0m\u001b[0mjoin\u001b[0m\u001b[1;33m(\u001b[0m\u001b[0msector\u001b[0m\u001b[1;33m,\u001b[0m \u001b[1;34mf'df_analyzed_{company_ticker}.csv'\u001b[0m\u001b[1;33m)\u001b[0m\u001b[1;33m\u001b[0m\u001b[1;33m\u001b[0m\u001b[0m\n\u001b[0;32m      6\u001b[0m         \u001b[0mdf_analyzed\u001b[0m\u001b[1;33m.\u001b[0m\u001b[0mto_csv\u001b[0m\u001b[1;33m(\u001b[0m\u001b[0mfilepath\u001b[0m\u001b[1;33m,\u001b[0m \u001b[0mheader\u001b[0m\u001b[1;33m=\u001b[0m\u001b[1;32mTrue\u001b[0m\u001b[1;33m,\u001b[0m \u001b[0mindex\u001b[0m\u001b[1;33m=\u001b[0m\u001b[1;32mFalse\u001b[0m\u001b[1;33m,\u001b[0m \u001b[0msep\u001b[0m\u001b[1;33m=\u001b[0m\u001b[1;34m';'\u001b[0m\u001b[1;33m)\u001b[0m\u001b[1;33m\u001b[0m\u001b[1;33m\u001b[0m\u001b[0m\n",
      "\u001b[1;32m~\\OneDrive - SKEMA Business School\\6 - Master Thesis\\Code Python\\master_thesis_tool_kit.py\u001b[0m in \u001b[0;36mcomapny_sentiment_score\u001b[1;34m(df)\u001b[0m\n\u001b[0;32m     51\u001b[0m \u001b[1;33m\u001b[0m\u001b[0m\n\u001b[0;32m     52\u001b[0m     \u001b[1;32mfor\u001b[0m \u001b[0midx\u001b[0m\u001b[1;33m,\u001b[0m \u001b[0mstoryId\u001b[0m \u001b[1;32min\u001b[0m \u001b[0menumerate\u001b[0m\u001b[1;33m(\u001b[0m\u001b[0mdf\u001b[0m\u001b[1;33m[\u001b[0m\u001b[1;34m'storyId'\u001b[0m\u001b[1;33m]\u001b[0m\u001b[1;33m.\u001b[0m\u001b[0mvalues\u001b[0m\u001b[1;33m)\u001b[0m\u001b[1;33m:\u001b[0m  \u001b[1;31m#for each row in our df dataframe\u001b[0m\u001b[1;33m\u001b[0m\u001b[1;33m\u001b[0m\u001b[0m\n\u001b[1;32m---> 53\u001b[1;33m         \u001b[0mnewsText\u001b[0m \u001b[1;33m=\u001b[0m \u001b[0mek\u001b[0m\u001b[1;33m.\u001b[0m\u001b[0mget_news_story\u001b[0m\u001b[1;33m(\u001b[0m\u001b[0mstoryId\u001b[0m\u001b[1;33m)\u001b[0m \u001b[1;31m#get the news story\u001b[0m\u001b[1;33m\u001b[0m\u001b[1;33m\u001b[0m\u001b[0m\n\u001b[0m\u001b[0;32m     54\u001b[0m         \u001b[1;32mif\u001b[0m \u001b[0mnewsText\u001b[0m\u001b[1;33m:\u001b[0m\u001b[1;33m\u001b[0m\u001b[1;33m\u001b[0m\u001b[0m\n\u001b[0;32m     55\u001b[0m             \u001b[0msoup\u001b[0m \u001b[1;33m=\u001b[0m \u001b[0mBeautifulSoup\u001b[0m\u001b[1;33m(\u001b[0m\u001b[0mnewsText\u001b[0m\u001b[1;33m,\u001b[0m\u001b[1;34m\"lxml\"\u001b[0m\u001b[1;33m)\u001b[0m \u001b[1;31m#create a BeautifulSoup object from our HTML news article\u001b[0m\u001b[1;33m\u001b[0m\u001b[1;33m\u001b[0m\u001b[0m\n",
      "\u001b[1;32m~\\anaconda3\\lib\\site-packages\\eikon\\news_request.py\u001b[0m in \u001b[0;36mget_news_story\u001b[1;34m(story_id, raw_output, debug)\u001b[0m\n\u001b[0;32m    186\u001b[0m     \u001b[0mapp_key\u001b[0m \u001b[1;33m=\u001b[0m \u001b[0meikon\u001b[0m\u001b[1;33m.\u001b[0m\u001b[0mget_app_key\u001b[0m\u001b[1;33m(\u001b[0m\u001b[1;33m)\u001b[0m\u001b[1;33m\u001b[0m\u001b[1;33m\u001b[0m\u001b[0m\n\u001b[0;32m    187\u001b[0m     \u001b[0mpayload\u001b[0m \u001b[1;33m=\u001b[0m \u001b[1;33m{\u001b[0m\u001b[1;34m'attributionCode'\u001b[0m\u001b[1;33m:\u001b[0m \u001b[1;34m''\u001b[0m\u001b[1;33m,\u001b[0m \u001b[1;34m'productName'\u001b[0m\u001b[1;33m:\u001b[0m \u001b[0mapp_key\u001b[0m\u001b[1;33m,\u001b[0m \u001b[1;34m'silent'\u001b[0m\u001b[1;33m:\u001b[0m \u001b[1;32mTrue\u001b[0m\u001b[1;33m,\u001b[0m \u001b[1;34m'storyId'\u001b[0m\u001b[1;33m:\u001b[0m \u001b[0mstory_id\u001b[0m\u001b[1;33m}\u001b[0m\u001b[1;33m\u001b[0m\u001b[1;33m\u001b[0m\u001b[0m\n\u001b[1;32m--> 188\u001b[1;33m     \u001b[0mjson_data\u001b[0m \u001b[1;33m=\u001b[0m \u001b[0meikon\u001b[0m\u001b[1;33m.\u001b[0m\u001b[0mjson_requests\u001b[0m\u001b[1;33m.\u001b[0m\u001b[0msend_json_request\u001b[0m\u001b[1;33m(\u001b[0m\u001b[0mNews_Story_UDF_endpoint\u001b[0m\u001b[1;33m,\u001b[0m \u001b[0mpayload\u001b[0m\u001b[1;33m,\u001b[0m \u001b[0mdebug\u001b[0m\u001b[1;33m=\u001b[0m\u001b[0mdebug\u001b[0m\u001b[1;33m)\u001b[0m\u001b[1;33m\u001b[0m\u001b[1;33m\u001b[0m\u001b[0m\n\u001b[0m\u001b[0;32m    189\u001b[0m \u001b[1;33m\u001b[0m\u001b[0m\n\u001b[0;32m    190\u001b[0m     \u001b[1;32mif\u001b[0m \u001b[0mraw_output\u001b[0m\u001b[1;33m:\u001b[0m\u001b[1;33m\u001b[0m\u001b[1;33m\u001b[0m\u001b[0m\n",
      "\u001b[1;32m~\\anaconda3\\lib\\site-packages\\eikon\\json_requests.py\u001b[0m in \u001b[0;36msend_json_request\u001b[1;34m(entity, payload, debug)\u001b[0m\n\u001b[0;32m    126\u001b[0m                         \u001b[0mticket\u001b[0m \u001b[1;33m=\u001b[0m \u001b[0m_check_ticket_async\u001b[0m\u001b[1;33m(\u001b[0m\u001b[0mresult\u001b[0m\u001b[1;33m)\u001b[0m\u001b[1;33m\u001b[0m\u001b[1;33m\u001b[0m\u001b[0m\n\u001b[0;32m    127\u001b[0m \u001b[1;33m\u001b[0m\u001b[0m\n\u001b[1;32m--> 128\u001b[1;33m                 \u001b[0m_check_server_error\u001b[0m\u001b[1;33m(\u001b[0m\u001b[0mresult\u001b[0m\u001b[1;33m)\u001b[0m\u001b[1;33m\u001b[0m\u001b[1;33m\u001b[0m\u001b[0m\n\u001b[0m\u001b[0;32m    129\u001b[0m                 \u001b[1;32mreturn\u001b[0m \u001b[0mresult\u001b[0m\u001b[1;33m\u001b[0m\u001b[1;33m\u001b[0m\u001b[0m\n\u001b[0;32m    130\u001b[0m             \u001b[1;32melse\u001b[0m\u001b[1;33m:\u001b[0m\u001b[1;33m\u001b[0m\u001b[1;33m\u001b[0m\u001b[0m\n",
      "\u001b[1;32m~\\anaconda3\\lib\\site-packages\\eikon\\json_requests.py\u001b[0m in \u001b[0;36m_check_server_error\u001b[1;34m(server_response)\u001b[0m\n\u001b[0;32m    212\u001b[0m             \u001b[0mstatus\u001b[0m\u001b[1;33m,\u001b[0m \u001b[0mreason_phrase\u001b[0m\u001b[1;33m,\u001b[0m \u001b[0mversion\u001b[0m\u001b[1;33m,\u001b[0m \u001b[0mcontent\u001b[0m\u001b[1;33m,\u001b[0m \u001b[0mheaders\u001b[0m \u001b[1;33m=\u001b[0m \u001b[0merror_message\u001b[0m\u001b[1;33m.\u001b[0m\u001b[0msplit\u001b[0m\u001b[1;33m(\u001b[0m\u001b[1;34m','\u001b[0m\u001b[1;33m)\u001b[0m\u001b[1;33m[\u001b[0m\u001b[1;33m:\u001b[0m\u001b[1;36m5\u001b[0m\u001b[1;33m]\u001b[0m\u001b[1;33m\u001b[0m\u001b[1;33m\u001b[0m\u001b[0m\n\u001b[0;32m    213\u001b[0m         \u001b[0mlogger\u001b[0m\u001b[1;33m.\u001b[0m\u001b[0merror\u001b[0m\u001b[1;33m(\u001b[0m\u001b[0merror_message\u001b[0m\u001b[1;33m)\u001b[0m\u001b[1;33m\u001b[0m\u001b[1;33m\u001b[0m\u001b[0m\n\u001b[1;32m--> 214\u001b[1;33m         \u001b[1;32mraise\u001b[0m \u001b[0mEikonError\u001b[0m\u001b[1;33m(\u001b[0m\u001b[0mint\u001b[0m\u001b[1;33m(\u001b[0m\u001b[0mserver_response\u001b[0m\u001b[1;33m[\u001b[0m\u001b[1;34m'ErrorCode'\u001b[0m\u001b[1;33m]\u001b[0m\u001b[1;33m)\u001b[0m\u001b[1;33m,\u001b[0m \u001b[0merror_message\u001b[0m\u001b[1;33m)\u001b[0m\u001b[1;33m\u001b[0m\u001b[1;33m\u001b[0m\u001b[0m\n\u001b[0m\u001b[0;32m    215\u001b[0m \u001b[1;33m\u001b[0m\u001b[0m\n\u001b[0;32m    216\u001b[0m     \u001b[1;31m# check DataGrid response (server response is JSON and it can contain error + transactionId keys)\u001b[0m\u001b[1;33m\u001b[0m\u001b[1;33m\u001b[0m\u001b[0m\n",
      "\u001b[1;31mEikonError\u001b[0m: Error code 503 | Backend error. 503 Service Unavailable"
     ]
    }
   ],
   "source": [
    "for company_ticker in company_list:\n",
    "    df = mtk.company_headlines(company_ticker)\n",
    "    if not df.empty:\n",
    "        df_analyzed = mtk.comapny_sentiment_score(df)\n",
    "        filepath = os.path.join(sector, f'df_analyzed_{company_ticker}.csv')\n",
    "        df_analyzed.to_csv(filepath, header=True, index=False, sep=';')\n",
    "        res = mtk.polarity_to_weight(df_analyzed, company_ticker, res)"
   ]
  },
  {
   "cell_type": "code",
   "execution_count": null,
   "id": "9012fd36",
   "metadata": {},
   "outputs": [],
   "source": [
    "df1 = mtk.company_social_score(company_list)\n",
    "join_df = res.set_index(\"Company\").join(df1.set_index(\"Instrument\"), how='left')\n",
    "join_df.to_csv(csv_file, sep=\";\", index=True, header=True)"
   ]
  },
  {
   "cell_type": "code",
   "execution_count": null,
   "id": "53b39282",
   "metadata": {},
   "outputs": [],
   "source": [
    "output_file = 'aggregate_data.csv'\n",
    "df_test = mtk.generate_aggregate_csv(output_file)"
   ]
  }
 ],
 "metadata": {
  "kernelspec": {
   "display_name": "Python 3 (ipykernel)",
   "language": "python",
   "name": "python3"
  },
  "language_info": {
   "codemirror_mode": {
    "name": "ipython",
    "version": 3
   },
   "file_extension": ".py",
   "mimetype": "text/x-python",
   "name": "python",
   "nbconvert_exporter": "python",
   "pygments_lexer": "ipython3",
   "version": "3.11.7"
  }
 },
 "nbformat": 4,
 "nbformat_minor": 5
}
